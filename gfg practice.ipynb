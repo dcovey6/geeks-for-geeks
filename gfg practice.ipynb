{
 "cells": [
  {
   "cell_type": "code",
   "execution_count": 2,
   "id": "69035373",
   "metadata": {},
   "outputs": [],
   "source": [
    "class Solution:\n",
    "    def sort012(self,arr,n):\n",
    "        # code here\n",
    "        # i = 0\n",
    "        # while(i < n-1):\n",
    "        #     if (arr[i] > arr[i+1]):\n",
    "        #         arr[i],arr[i+1] = arr[i+1],arr[i]\n",
    "        #         i = 0\n",
    "        #     else:\n",
    "        #         i += 1\n",
    "        arr.sort()"
   ]
  },
  {
   "cell_type": "code",
   "execution_count": null,
   "id": "78d4404f",
   "metadata": {},
   "outputs": [],
   "source": []
  },
  {
   "cell_type": "code",
   "execution_count": null,
   "id": "ce892212",
   "metadata": {},
   "outputs": [],
   "source": []
  }
 ],
 "metadata": {
  "kernelspec": {
   "display_name": "Python 3 (ipykernel)",
   "language": "python",
   "name": "python3"
  },
  "language_info": {
   "codemirror_mode": {
    "name": "ipython",
    "version": 3
   },
   "file_extension": ".py",
   "mimetype": "text/x-python",
   "name": "python",
   "nbconvert_exporter": "python",
   "pygments_lexer": "ipython3",
   "version": "3.11.5"
  }
 },
 "nbformat": 4,
 "nbformat_minor": 5
}
